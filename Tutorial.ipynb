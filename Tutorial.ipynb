{
 "cells": [
  {
   "cell_type": "markdown",
   "metadata": {},
   "source": [
    "# <center>Antibody – SARS-CoV-2 Molecular Dynamics Setup and energy estimation tutorial</center>\n",
    "\n",
    "This tutorial aims to illustrate the process of setting up a simulation system containing an antibody and a SARS-CoV-2 protein, step by step, using the SWISS-MODEL, VMD and NAMD. The energy estimation is implemented using AutoDock Tools, the script with commands is provided.\n",
    "\n",
    "The particular example used is **SARS-CoV-2 protein** (PDB code 6vyb) and **antibody derived from COVID-19 patient.**\n",
    "\n",
    "The complete antibody sequence:\n",
    "\n",
    "Heavy chain\n",
    "QVQLVQSGAAVEKPGASVKVSCRASGYTFTNYGITWVRLAPGRGLEWLGWVTGNGKTRYAETPQGRLTMTTDRSRSTAYMELRSLRSDDTAVYYCARVAANGGL\n",
    "LWFGGEGDVYFDHWGQGTLLSVSSASTKGPSVFPLAPSSKSTSGGTAALGCLVKDYFPEPVTVSWNSGALTSGVHTFPAVLQSSGLYSLSSVVTVPSSSLGTQT\n",
    "YICNVNHKPSNTKVDKKVEPKSCDKTHTCPPCPAPELLGGPSVFLFPPKPKDTLMISRTPEVTCVVVDVSHEDPEVKFNWYVDGVEVHNAKTKPREEQYNSTYR\n",
    "VVSVLTVLHQDWLNGKEYKCKVSNKALPAPIEKTISKAKGQPREPQVYTLPPSRDELTKNQVSLTCLVKGFYPSDIAVEWESNGQPENNYKTTPPVLDSDGSFF\n",
    "LYSKLTVDKSRWQQGNVFSCSVMHEALHNHYTQKSLSLSPGK\n",
    "\n",
    "Light chain\n",
    "QSVLTQPPSASGAPGQRITISCSGSASNIGSNYVYWYQVLPGTAPKLLIYSNNQRPSGVPDRFSGSKSGTSASLAISGLRSEDEGDYHCAAWDDSLTGHVAFGG\n",
    "GTKVTVLGQPKANPTVTLFPPSSEELQANKATLVCLISDFYPGAVTVAWKADGSPVKAGVETTKPSKQSNNKYAASSYLSLTPEQWKSHRSYSCQVTHEGSTVE\n",
    "KTVAPTECS\n",
    "# Settings\n",
    "\n",
    "## Software used\n",
    "\n",
    "[SWISS-MODEL:](https://swissmodel.expasy.org/) a fully automated protein structure homology-modelling server\n",
    "\n",
    "[VMD:](https://www.ks.uiuc.edu/Research/vmd/) a molecular visualization program for displaying, animating, and analyzing large biomolecular systems using 3-D graphics and built-in scripting\n",
    "\n",
    "[NAMD:](https://www.ks.uiuc.edu/Research/namd/) a parallel molecular dynamics code designed for high-performance simulation of large biomolecular systems\n",
    "\n",
    "[Chimera:](https://www.cgl.ucsf.edu/chimera/) a program for the interactive visualization and analysis of molecular structures and related data\n",
    "\n",
    "[AutoDock Tools:](http://autodock.scripps.edu/) is a suite of automated docking tools. Allows estimation of binding energy.\n",
    "# Pipeline steps\n",
    "\n",
    "1. Building an antibody from a sequence\n",
    "\n",
    "2. Superposition of the structure of built antibody and SARS-CoV-2 protein with antibody-SARS-CoV structure (PDB code 2dd8)\n",
    "\n",
    "3. Minimization of the energy of antibody-SARS-CoV-2 structure\n",
    "\n",
    "4. Creating a solvent box, solvation and ionization in VMD\n",
    "\n",
    "5. Minimization of system and heating \n",
    "\n",
    "6. Equilibration and MD production run\n",
    "\n",
    "7. Energy estimation of antibody-SARS-CoV-2 interactions for the last 1 ns of MD "
   ]
  },
  {
   "cell_type": "markdown",
   "metadata": {},
   "source": [
    "1. Building an antibody from a sequence\n",
    "\n",
    "Let's build antibody. We will do it separetely for heavy and light chain. Paste a sequence for heavy chain into \"Target sequence\" field on [SWISS-MODEL](https://swissmodel.expasy.org/interactive) webpage and click \"BUILD MODEL\". Repeat the same for the light chain. When the modelling will be completed you can download built models for heavy and light chains. \n",
    "<h1><center> SWISS-MODEL interactive workspace</center></h1>\n",
    "    \n",
    "<img src=\"Swiss-Model.png\" width=\"900\" height=\"450\">"
   ]
  },
  {
   "cell_type": "markdown",
   "metadata": {},
   "source": [
    "\n",
    "2. Superposition of the structure of built antibody and SARS-CoV-2 protein with antibody-SARS-CoV structure (PDB code 2dd8)\n",
    "\n",
    "Now we need to build an antibody-SARS-CoV-2 structure. Let's model antibody-SARS-CoV-2 interactions similar to the interaction mode of SARS-CoV with neutralizing antibody IGG (PDB code 2dd8). We are interested in interactions of antibody with RBD domain of SARS-CoV-2, so let's use only RBD domain of SARS-CoV-2. First, we do superposition of RBD domain of SARS-CoV-2 with antibody-SARS-CoV (PDB code 2dd8), remove SARS-CoV protein and save a structure as Ant-RBD-SARS-CoV-2.pdb<br>\n",
    "The files containing previously built antibody (Antibody_heavy_chain.pdb, Antibody_light_chain.pdb) and antibody-RBD domain of SARS-CoV-2 complex (Ant-RBD-SARS-CoV-2.pdb) are attached.<br>\n",
    "Let's do superposition of already build antibody with IGG antibody-RBD domain of SARS-CoV-2 complex in Chimera.<br>\n",
    "Open Chimera GUI and load Antibody_heavy_chain.pdb and Ant-RBD-SARS-CoV-2.pdb.<br>\n",
    "Go to Tools -> Structure Comparison -> Match Maker and do superposition of chain H (heavy chain) of Ant-RBD-SARS-CoV-2.pdb with chain H of antibody.\n",
    "<img src=\"Chimera_Superposition.png\" width=\"800\" height=\"450\">"
   ]
  },
  {
   "cell_type": "markdown",
   "metadata": {},
   "source": [
    "Repeat the same for a light chain of antibody. Load Antibody_light_chain.pdb and do superposition of chain H (heavy chain) of Ant-RBD-SARS-CoV-2.pdb with chain L of antibody. Remove chains H, L from Ant-RBD-SARS-CoV-2.pdb and save the current structure as Complex.pdb, which will be our working structure of antibody-SARS-CoV-2 complex."
   ]
  },
  {
   "cell_type": "markdown",
   "metadata": {},
   "source": [
    "3. Minimization of the energy of antibody-SARS-CoV-2 structure\n",
    "\n",
    "Let's generate psf file for our built antibody-SARS-CoV-2 complex using VMD and minimize the energy of the structure with NAMD.<br>\n",
    "Open VMD GUI and load Complex.pdb.<br>\n",
    "Click Extensions -> Modelling -> Automatic PSF Builder.<br>\n",
    "It will create Complex_autopsf.psf and Complex_autopsf.pdb files. Copy these files to your working directory.<br>\n",
    "Now we can start minimization, the minimization.conf file is provided, please check there the path to 'toppar' folder with topology files. \n",
    "```bash\n",
    "> cd your_working_dir\n",
    "> mkdir min\n",
    "> path_to_NAMD/namd2 +p8 minimization.conf > minimization.log\n",
    "```\n",
    "NAMD will output 'Antibody_min.coor' file with energetically minimized structure in 'min' folder."
   ]
  },
  {
   "cell_type": "markdown",
   "metadata": {},
   "source": [
    "4. Creating a solvent box, solvation and ionization in VMD\n",
    "\n",
    "We will solvate a structure in a rectangular box such that the minimum distance to the edge of the box will be 10 Å under periodic boundary conditions in VMD. Na and Cl ions will be added to neutralize the protein charge, then further ions will be added to mimic a salt solution concentration of 0.15 M.<br> \n",
    "Let's load psf and Antibody_min.coor files into VMD. After that click Extensions -> TK Console and type:\n",
    "```bash\n",
    "> cd your_working_dir\n",
    "> package require solvate\n",
    "> solvate Complex_autopsf.psf min/Antibody_min.coor -t 10 -o solvated\n",
    "> package require autoionize\n",
    "> autoionize -psf solvated.psf -pdb solvated.pdb -sc 0.15 -cation SOD -anion CLA -o solvated_ions\n",
    "```"
   ]
  },
  {
   "cell_type": "markdown",
   "metadata": {},
   "source": [
    "5. Minimization of system and heating\n",
    "Let's minimize our system. Type in the Terminal:\n",
    "```bash\n",
    "> path_to_NAMD/namd2 +p8 minimization1.conf > minimization1.log\n",
    "```\n",
    "In VMD TK Console:\n",
    "```bash\n",
    "> cd your_working_dir\n",
    "> mol load psf solvated_ions.psf namdbin min/Antibody_min1.coor \n",
    "> set sel [atomselect top all]\n",
    "> $sel writepdb solvated_ions_min.pdb\n",
    "```"
   ]
  },
  {
   "cell_type": "markdown",
   "metadata": {},
   "source": [
    "Also we need to determine the water box size and estimate coordinate of the center of water box in VMD:\n",
    "\n",
    "```bash\n",
    "> set coords [atomselect top all]\n",
    "> measure minmax $coords\n",
    "> measure center $coords\n",
    "```\n",
    "\n",
    "We need to estimate the box size as max coor - min coor and paste these numbers into files heating.conf, equilibration.conf and md.conf in the field 'Periodic Boundary Conditions'. Paste coordinate of the center of the box into 'cellOrigin' field.<br>\n",
    "Let's heat our system. In Terminal:\n",
    "```bash\n",
    "> mkdir heating\n",
    "> path_to_NAMD/namd2 +p8 heating.conf > heating.log\n",
    "```"
   ]
  },
  {
   "cell_type": "markdown",
   "metadata": {},
   "source": [
    "6. Equilibration and MD production run\n",
    "\n",
    "Let's equilibrate our systems for 500000 steps (1ns) and run 10 ns of MD.\n",
    "```bash\n",
    "> mkdir equil\n",
    "> path_to_NAMD/namd2 +p8 heating.conf > heating.log\n",
    "> mkdir md\n",
    "> path_to_NAMD/namd2 +p8 md.conf > md.log\n",
    "```"
   ]
  },
  {
   "cell_type": "markdown",
   "metadata": {},
   "source": [
    "7. Energy estimation of antibody-SARS-CoV-2 interactions for the last 1 ns of MD \n",
    "\n",
    "We run 10ns of MD, so we will have 100 frames in total. As we saved trajectories every 50000 steps, for the last 1ns of MD we will have 10 frames. Let's save coordinates of antibody-SARS-CoV-2 structure for the last 10 frames of MD.\n",
    "Let's load our psf and trajectory file into VMD and save 10 structures that corresponds to the last 10 frames.<br>\n",
    "In VMD TK Console:\n",
    "```bash\n",
    "cd your_working_dir\n",
    "mol new solvated_ions.psf \n",
    "animate read dcd md.dcd\n",
    "mkdir frames \n",
    "for {set i 90} {$i < 100} {incr i} {\n",
    "  set sel [atomselect top \"not water and not ions\" frame $i] \n",
    "  $sel writepdb frames/frame_$i.pdb\n",
    "  $sel delete\n",
    "} \n",
    "```"
   ]
  },
  {
   "cell_type": "markdown",
   "metadata": {},
   "source": [
    "We saved 10 structures, frame_90.pdb-frame_99.pdb into folder 'frames'.\n",
    "Now we need to analyze each complex and calculate antibody-SARS-CoV-2 interaction energy for each structure.<br>\n",
    "In order to minimize clashes let's do energy minimization of each complex.<br>\n",
    "First, we need to generate psf files and then run minimization.<br>\n",
    "In VMD load frame_90.pdb and generate its psf file Extensions -> Modelling -> Automatic PSF Builder.\n",
    "Repeat the same for all structures, frame_90.pdb-frame_99.pdb. You will get 10 files, frame_90_autopsf.pdb - frame_99_autopsf.pdb.\n",
    "Now, we can run minimization for all 10 complexes.<br>\n",
    "In Terminal:\n",
    "```bash\n",
    "cd your_working_dir\n",
    "./Min_all.sh\n",
    "```\n",
    "After minimization we need to convert output files into pdb format.<br>\n",
    "In VMD TK Console:\n",
    "```bash\n",
    "cd your_working_dir/frames\n",
    "for {set i 1} {$i < 11} {incr i} {\n",
    "cd $i\n",
    "mol load psf Complex_autopsf.psf namdbin Antibody_min.coor\n",
    "set sel [atomselect top all]\n",
    "$sel writepdb Min.pdb\n",
    "resetpsf\n",
    "cd ../\n",
    "}\n",
    "```"
   ]
  },
  {
   "cell_type": "markdown",
   "metadata": {},
   "source": [
    "Now we can estimate energy for our 10 structures.<br>\n",
    "In Terminal:\n",
    "```bash\n",
    "cd your_working_dir\n",
    "./Energy.sh\n",
    "```\n",
    "It will output file energy.txt, which contains frame id and energy of antibody-SARS-CoV-2 interactions for heavy and light chains."
   ]
  },
  {
   "cell_type": "code",
   "execution_count": null,
   "metadata": {},
   "outputs": [],
   "source": []
  }
 ],
 "metadata": {
  "kernelspec": {
   "display_name": "Python 3",
   "language": "python",
   "name": "python3"
  },
  "language_info": {
   "codemirror_mode": {
    "name": "ipython",
    "version": 3
   },
   "file_extension": ".py",
   "mimetype": "text/x-python",
   "name": "python",
   "nbconvert_exporter": "python",
   "pygments_lexer": "ipython3",
   "version": "3.7.0"
  }
 },
 "nbformat": 4,
 "nbformat_minor": 2
}
